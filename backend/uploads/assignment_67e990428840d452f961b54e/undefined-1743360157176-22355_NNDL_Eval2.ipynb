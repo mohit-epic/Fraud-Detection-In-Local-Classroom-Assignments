{
 "cells": [
  {
   "cell_type": "code",
   "execution_count": 1,
   "id": "4052ee06-a64d-4e6a-83cb-13bf4efb24b3",
   "metadata": {},
   "outputs": [],
   "source": [
    "import tensorflow as tf\n",
    "from tensorflow.keras.models import Sequential\n",
    "from tensorflow.keras.layers import Conv2D, MaxPooling2D\n",
    "from tensorflow.keras.layers import Flatten, Dense, Dropout\n",
    "from tensorflow.keras.layers import BatchNormalization\n",
    "from tensorflow.keras.utils import to_categorical\n",
    "import tensorflow.keras.regularizers as tfr\n",
    "from tensorflow.keras.callbacks import EarlyStopping\n",
    "import numpy as np\n",
    "import matplotlib.pyplot as plt\n",
    "from tensorflow.keras.datasets import fashion_mnist"
   ]
  },
  {
   "cell_type": "code",
   "execution_count": 2,
   "id": "ccce9e9e-5946-470c-9352-0dfd6f53887d",
   "metadata": {},
   "outputs": [],
   "source": [
    "def build_mediocre_model():\n",
    "    model = Sequential([\n",
    "        Conv2D(32, (3, 3), activation='relu', input_shape=(28, 28, 1)),\n",
    "        MaxPooling2D((2, 2)), \n",
    "        Conv2D(64, (3, 3), activation='relu'),\n",
    "        MaxPooling2D((2, 2)),  \n",
    "        Flatten(),\n",
    "        Dense(128, activation='relu'),\n",
    "        Dense(10, activation='softmax')\n",
    "    ])\n",
    "    return model\n",
    "\n"
   ]
  },
  {
   "cell_type": "code",
   "execution_count": 3,
   "id": "ca49b169-5599-41e0-ba5a-33655ad29e74",
   "metadata": {},
   "outputs": [],
   "source": [
    "def build_optimized_model():\n",
    "    model1 = Sequential([\n",
    "        Conv2D(32, (3,3), activation='relu', input_shape=(28,28,1)),\n",
    "        MaxPooling2D((2,2)),  # Reduces to (14,14)\n",
    "        Conv2D(64, (3,3), activation='relu'),\n",
    "        BatchNormalization(),\n",
    "        Dropout(0.5),\n",
    "        MaxPooling2D((2,2)),  # Reduces to (7,7)\n",
    "        Flatten(),\n",
    "        Dense(128, activation='relu', kernel_regularizer=tfr.l2(0.001)),\n",
    "        Dense(10, activation='softmax')\n",
    "    ])\n",
    "    return model1\n"
   ]
  },
  {
   "cell_type": "code",
   "execution_count": 4,
   "id": "60fbeaf8-a0b3-4ba1-a07c-aa74e48a9644",
   "metadata": {},
   "outputs": [],
   "source": [
    "def train_and_evaluate_model():\n",
    "    (x_train, y_train), (x_test, y_test) = fashion_mnist.load_data()\n",
    "    x_train = x_train.reshape(-1, 28, 28, 1).astype('float32') / 255.0\n",
    "    x_test = x_test.reshape(-1, 28, 28, 1).astype('float32') / 255.0\n",
    "\n",
    "    y_train_cat = to_categorical(y_train, 10)\n",
    "    y_test_cat = to_categorical(y_test, 10)\n",
    "\n",
    "    early_stopping = EarlyStopping(monitor='val_loss', patience=5, restore_best_weights=True)\n",
    "\n",
    "    mediocre_model = build_mediocre_model()\n",
    "    mediocre_model.compile(optimizer='adam', loss='sparse_categorical_crossentropy', metrics=['accuracy'])\n",
    "    history_mediocre = mediocre_model.fit(\n",
    "        x_train, y_train, epochs=4, validation_split=0.2, callbacks=[early_stopping], verbose=1\n",
    "    )\n",
    "    test_loss_mediocre, test_acc_mediocre = mediocre_model.evaluate(x_test, y_test, verbose=0)\n",
    "\n",
    "    optimized_model = build_optimized_model()\n",
    "    optimized_model.compile(optimizer='adam', loss='sparse_categorical_crossentropy', metrics=['accuracy'])\n",
    "    history_optimized = optimized_model.fit(\n",
    "        x_train, y_train, epochs=8, validation_split=0.2, callbacks=[early_stopping], verbose=1\n",
    "    )\n",
    "    test_loss_optimized, test_acc_optimized = optimized_model.evaluate(x_test, y_test, verbose=0)\n",
    "\n",
    "    plt.figure(figsize=(12, 6))\n",
    "\n",
    "    plt.subplot(2, 2, 1)\n",
    "    plt.plot(history_mediocre.history['accuracy'], label='Train Accuracy')\n",
    "    plt.plot(history_mediocre.history['val_accuracy'], label='Validation Accuracy')\n",
    "    plt.title('Mediocre Model Accuracy')\n",
    "    plt.legend()\n",
    "\n",
    "    plt.subplot(2, 2, 2)\n",
    "    plt.plot(history_mediocre.history['loss'], label='Train Loss')\n",
    "    plt.plot(history_mediocre.history['val_loss'], label='Validation Loss')\n",
    "    plt.title('Mediocre Model Loss')\n",
    "    plt.legend()\n",
    "\n",
    "    plt.plot(history_optimized.history['accuracy'], label='Train Accuracy')\n",
    "    plt.plot(history_optimized.history['val_accuracy'], label='Validation Accuracy')\n",
    "    plt.title('Optimized Model Accuracy')\n",
    "    plt.legend()\n",
    "\n",
    "    plt.subplot(2, 2, 4)\n",
    "    plt.plot(history_optimized.history['loss'], label='Train Loss')\n",
    "    plt.plot(history_optimized.history['val_loss'], label='Validation Loss')\n",
    "    plt.title('Optimized Model Loss')\n",
    "    plt.legend()\n",
    "\n",
    "    plt.tight_layout()\n",
    "    plt.show()\n",
    "\n",
    "    print(f\"Mediocre Model - Test Loss: {test_loss_mediocre}, Test Accuracy: {test_acc_mediocre}\")\n",
    "    print(f\"Optimized Model - Test Loss: {test_loss_optimized}, Test Accuracy: {test_acc_optimized}\")\n",
    "\n",
    "\n",
    "\n"
   ]
  },
  {
   "cell_type": "code",
   "execution_count": null,
   "id": "03581cd1-1a75-4912-b91e-220be04a2dea",
   "metadata": {},
   "outputs": [
    {
     "name": "stderr",
     "output_type": "stream",
     "text": [
      "C:\\Users\\mohit\\AppData\\Local\\Programs\\Python\\Python312\\Lib\\site-packages\\keras\\src\\layers\\convolutional\\base_conv.py:107: UserWarning: Do not pass an `input_shape`/`input_dim` argument to a layer. When using Sequential models, prefer using an `Input(shape)` object as the first layer in the model instead.\n",
      "  super().__init__(activity_regularizer=activity_regularizer, **kwargs)\n"
     ]
    },
    {
     "name": "stdout",
     "output_type": "stream",
     "text": [
      "Epoch 1/4\n",
      "\u001b[1m1500/1500\u001b[0m \u001b[32m━━━━━━━━━━━━━━━━━━━━\u001b[0m\u001b[37m\u001b[0m \u001b[1m27s\u001b[0m 16ms/step - accuracy: 0.7699 - loss: 0.6385 - val_accuracy: 0.8777 - val_loss: 0.3401\n",
      "Epoch 2/4\n",
      "\u001b[1m1500/1500\u001b[0m \u001b[32m━━━━━━━━━━━━━━━━━━━━\u001b[0m\u001b[37m\u001b[0m \u001b[1m32s\u001b[0m 21ms/step - accuracy: 0.8823 - loss: 0.3209 - val_accuracy: 0.8939 - val_loss: 0.2959\n",
      "Epoch 3/4\n",
      "\u001b[1m1500/1500\u001b[0m \u001b[32m━━━━━━━━━━━━━━━━━━━━\u001b[0m\u001b[37m\u001b[0m \u001b[1m26s\u001b[0m 18ms/step - accuracy: 0.9022 - loss: 0.2659 - val_accuracy: 0.8962 - val_loss: 0.2852\n",
      "Epoch 4/4\n",
      "\u001b[1m1500/1500\u001b[0m \u001b[32m━━━━━━━━━━━━━━━━━━━━\u001b[0m\u001b[37m\u001b[0m \u001b[1m26s\u001b[0m 17ms/step - accuracy: 0.9158 - loss: 0.2327 - val_accuracy: 0.9021 - val_loss: 0.2708\n",
      "Epoch 1/8\n",
      "\u001b[1m1500/1500\u001b[0m \u001b[32m━━━━━━━━━━━━━━━━━━━━\u001b[0m\u001b[37m\u001b[0m \u001b[1m39s\u001b[0m 24ms/step - accuracy: 0.7938 - loss: 0.7558 - val_accuracy: 0.8718 - val_loss: 0.4333\n",
      "Epoch 2/8\n",
      "\u001b[1m1500/1500\u001b[0m \u001b[32m━━━━━━━━━━━━━━━━━━━━\u001b[0m\u001b[37m\u001b[0m \u001b[1m29s\u001b[0m 19ms/step - accuracy: 0.8740 - loss: 0.4248 - val_accuracy: 0.8886 - val_loss: 0.3805\n",
      "Epoch 3/8\n",
      "\u001b[1m1500/1500\u001b[0m \u001b[32m━━━━━━━━━━━━━━━━━━━━\u001b[0m\u001b[37m\u001b[0m \u001b[1m30s\u001b[0m 20ms/step - accuracy: 0.8899 - loss: 0.3709 - val_accuracy: 0.8699 - val_loss: 0.4323\n",
      "Epoch 4/8\n",
      "\u001b[1m1500/1500\u001b[0m \u001b[32m━━━━━━━━━━━━━━━━━━━━\u001b[0m\u001b[37m\u001b[0m \u001b[1m33s\u001b[0m 22ms/step - accuracy: 0.8964 - loss: 0.3540 - val_accuracy: 0.8760 - val_loss: 0.4082\n",
      "Epoch 5/8\n",
      "\u001b[1m1500/1500\u001b[0m \u001b[32m━━━━━━━━━━━━━━━━━━━━\u001b[0m\u001b[37m\u001b[0m \u001b[1m34s\u001b[0m 22ms/step - accuracy: 0.9008 - loss: 0.3399 - val_accuracy: 0.8706 - val_loss: 0.4119\n",
      "Epoch 6/8\n",
      "\u001b[1m1471/1500\u001b[0m \u001b[32m━━━━━━━━━━━━━━━━━━━\u001b[0m\u001b[37m━\u001b[0m \u001b[1m0s\u001b[0m 19ms/step - accuracy: 0.9051 - loss: 0.3332"
     ]
    }
   ],
   "source": [
    "train_and_evaluate_model()"
   ]
  },
  {
   "cell_type": "code",
   "execution_count": null,
   "id": "a5d1d21a-08c4-464f-84bd-0fd57c22aaeb",
   "metadata": {},
   "outputs": [],
   "source": []
  }
 ],
 "metadata": {
  "kernelspec": {
   "display_name": "Python 3 (ipykernel)",
   "language": "python",
   "name": "python3"
  },
  "language_info": {
   "codemirror_mode": {
    "name": "ipython",
    "version": 3
   },
   "file_extension": ".py",
   "mimetype": "text/x-python",
   "name": "python",
   "nbconvert_exporter": "python",
   "pygments_lexer": "ipython3",
   "version": "3.12.6"
  }
 },
 "nbformat": 4,
 "nbformat_minor": 5
}
