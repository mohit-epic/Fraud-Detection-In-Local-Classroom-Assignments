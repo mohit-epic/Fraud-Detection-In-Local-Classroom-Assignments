{
 "cells": [
  {
   "cell_type": "code",
   "execution_count": 35,
   "id": "c85d5f5b-61bd-4b38-89be-5676c041ecdd",
   "metadata": {},
   "outputs": [],
   "source": [
    "import os\n",
    "import numpy as np\n",
    "from sentence_transformers import SentenceTransformer\n",
    "from sklearn.metrics.pairwise import cosine_similarity\n",
    "import torch\n",
    "import sentence_transformers"
   ]
  },
  {
   "cell_type": "code",
   "execution_count": 36,
   "id": "14799eb3-d83e-4570-b8ab-cca7cf8a5dc7",
   "metadata": {},
   "outputs": [],
   "source": [
    "sentence_transformers.SentenceTransformer._target_device = \"cpu\"  "
   ]
  },
  {
   "cell_type": "code",
   "execution_count": null,
   "id": "b9019a9d-2452-4c31-8257-a862244d080c",
   "metadata": {},
   "outputs": [],
   "source": [
    "model = SentenceTransformer('all-MiniLM-L6-v2', device=\"cpu\")  "
   ]
  },
  {
   "cell_type": "code",
   "execution_count": null,
   "id": "81fa3d4f-9e39-4413-b154-fad232391b3c",
   "metadata": {},
   "outputs": [],
   "source": [
    "assignments = {\n",
    "    \"student1.txt\": \"The quick brown fox jumps over the lazy dog.\",\n",
    "    \"student2.txt\": \"A fast brown fox jumps over a sleeping dog.\",\n",
    "    \"student3.txt\": \"The quick brown fox jumps over the lazy dog.\"\n",
    "}"
   ]
  },
  {
   "cell_type": "code",
   "execution_count": null,
   "id": "f223c513-357d-4b3f-b650-e9a5bbb660c3",
   "metadata": {},
   "outputs": [],
   "source": [
    "texts = list(assignments.values())\n",
    "embeddings = model.encode(texts, convert_to_tensor=True)"
   ]
  },
  {
   "cell_type": "code",
   "execution_count": null,
   "id": "db5620b8-3c3a-4f31-9976-2897fb4acc08",
   "metadata": {},
   "outputs": [],
   "source": [
    "cosine_sim = cosine_similarity(embeddings.cpu().numpy()) "
   ]
  },
  {
   "cell_type": "code",
   "execution_count": null,
   "id": "7e2b9df2-80b1-4774-9bf5-6492d65d891f",
   "metadata": {},
   "outputs": [],
   "source": [
    "def highlight_similar_parts(text1, text2):\n",
    "    seq_matcher = difflib.SequenceMatcher(None, text1, text2)\n",
    "    highlighted_text1, highlighted_text2 = \"\", \"\"\n",
    "\n",
    "    for op, i1, i2, j1, j2 in seq_matcher.get_opcodes():\n",
    "        if op == 'equal':  \n",
    "            highlighted_text1 += f\"\\033[92m{text1[i1:i2]}\\033[0m\"  # Green highlight\n",
    "            highlighted_text2 += f\"\\033[92m{text2[j1:j2]}\\033[0m\"  # Green highlight\n",
    "        else:\n",
    "            highlighted_text1 += text1[i1:i2]\n",
    "            highlighted_text2 += text2[j1:j2]\n",
    "\n",
    "    return highlighted_text1, highlighted_text2\n",
    "\n",
    "\n",
    "students = list(assignments.keys())\n",
    "print(\"\\nPlagiarism Report:\")\n",
    "for i in range(len(students)):\n",
    "    for j in range(i + 1, len(students)):\n",
    "        similarity = cosine_sim[i][j]\n",
    "        if similarity > 0.7:  # Threshold for plagiarism\n",
    "            print(f\"Possible Plagiarism Detected between {students[i]} and {students[j]}\")\n",
    "            print(f\"   - Similarity Score: {similarity:.2f}\")\n",
    "\n",
    "            # Highlight Similar Parts\n",
    "            text1, text2 = texts[i], texts[j]\n",
    "            highlighted1, highlighted2 = highlight_similar_parts(text1, text2)\n",
    "\n",
    "            print(f\"   -> {students[i]}: {highlighted1}\")\n",
    "            print(f\"   -> {students[j]}: {highlighted2}\\n\")\n"
   ]
  },
  {
   "cell_type": "code",
   "execution_count": null,
   "id": "35b5d994-bd71-4c43-a511-fe622758740a",
   "metadata": {},
   "outputs": [],
   "source": []
  }
 ],
 "metadata": {
  "kernelspec": {
   "display_name": "Python 3 (ipykernel)",
   "language": "python",
   "name": "python3"
  },
  "language_info": {
   "codemirror_mode": {
    "name": "ipython",
    "version": 3
   },
   "file_extension": ".py",
   "mimetype": "text/x-python",
   "name": "python",
   "nbconvert_exporter": "python",
   "pygments_lexer": "ipython3",
   "version": "3.12.6"
  }
 },
 "nbformat": 4,
 "nbformat_minor": 5
}
